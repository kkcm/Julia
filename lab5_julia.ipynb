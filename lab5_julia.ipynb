{
 "cells": [
  {
   "cell_type": "markdown",
   "metadata": {},
   "source": [
    "# Zadanie 1."
   ]
  },
  {
   "cell_type": "code",
   "execution_count": 1,
   "metadata": {},
   "outputs": [
    {
     "data": {
      "text/plain": [
       "harmonic_mean_gen (generic function with 1 method)"
      ]
     },
     "execution_count": 1,
     "metadata": {},
     "output_type": "execute_result"
    }
   ],
   "source": [
    "@generated function harmonic_mean_gen(x...)\n",
    "    return harmonic_mean_gen_impl(x...)\n",
    "end"
   ]
  },
  {
   "cell_type": "code",
   "execution_count": 2,
   "metadata": {},
   "outputs": [
    {
     "data": {
      "text/plain": [
       "harmonic_mean_gen_impl (generic function with 1 method)"
      ]
     },
     "execution_count": 2,
     "metadata": {},
     "output_type": "execute_result"
    }
   ],
   "source": [
    "function harmonic_mean_gen_impl(x...)\n",
    "    N = length(x)\n",
    "    elNum = :($N)\n",
    "    sum = :(0)\n",
    "    for i = 1:N\n",
    "        sum = :((1 / x[$i]) + $sum)\n",
    "    end\n",
    "    return :($elNum / $sum)\n",
    "end"
   ]
  },
  {
   "cell_type": "code",
   "execution_count": 3,
   "metadata": {},
   "outputs": [
    {
     "data": {
      "text/plain": [
       ":(3 / (1 / x[3] + (1 / x[2] + (1 / x[1] + 0))))"
      ]
     },
     "execution_count": 3,
     "metadata": {},
     "output_type": "execute_result"
    }
   ],
   "source": [
    "harmonic_mean_gen_impl(Int, Int, Int)"
   ]
  },
  {
   "cell_type": "code",
   "execution_count": 4,
   "metadata": {},
   "outputs": [
    {
     "data": {
      "text/plain": [
       ":(4 / (1 / x[4] + (1 / x[3] + (1 / x[2] + (1 / x[1] + 0)))))"
      ]
     },
     "execution_count": 4,
     "metadata": {},
     "output_type": "execute_result"
    }
   ],
   "source": [
    "harmonic_mean_gen_impl(2, 2, 5, 7)"
   ]
  },
  {
   "cell_type": "code",
   "execution_count": 5,
   "metadata": {},
   "outputs": [
    {
     "ename": "LoadError",
     "evalue": "\u001b[91mMethodError: no method matching harmonic_mean_gen_impl(::Type{Int64}, ::Type{Int64}, ::Type{Int64}, ::Type{Int64})\nThe applicable method may be too new: running in world age 21836, while current world is 21837.\u001b[0m\nClosest candidates are:\n  harmonic_mean_gen_impl(::Any...) at In[2]:2 (method too new to be called from this world context.)\u001b[39m",
     "output_type": "error",
     "traceback": [
      "\u001b[91mMethodError: no method matching harmonic_mean_gen_impl(::Type{Int64}, ::Type{Int64}, ::Type{Int64}, ::Type{Int64})\nThe applicable method may be too new: running in world age 21836, while current world is 21837.\u001b[0m\nClosest candidates are:\n  harmonic_mean_gen_impl(::Any...) at In[2]:2 (method too new to be called from this world context.)\u001b[39m",
      "",
      "Stacktrace:",
      " [1] \u001b[1mharmonic_mean_gen(...)\u001b[22m\u001b[22m at \u001b[1m./In[1]:2\u001b[22m\u001b[22m"
     ]
    }
   ],
   "source": [
    "harmonic_mean_gen(2, 2, 5, 7)"
   ]
  },
  {
   "cell_type": "code",
   "execution_count": 6,
   "metadata": {},
   "outputs": [
    {
     "ename": "LoadError",
     "evalue": "\u001b[91mMethodError: no method matching harmonic_mean_gen_impl(::Type{Int64}, ::Type{Int64}, ::Type{Int64})\nThe applicable method may be too new: running in world age 21836, while current world is 21837.\u001b[0m\nClosest candidates are:\n  harmonic_mean_gen_impl(::Any...) at In[2]:2 (method too new to be called from this world context.)\u001b[39m",
     "output_type": "error",
     "traceback": [
      "\u001b[91mMethodError: no method matching harmonic_mean_gen_impl(::Type{Int64}, ::Type{Int64}, ::Type{Int64})\nThe applicable method may be too new: running in world age 21836, while current world is 21837.\u001b[0m\nClosest candidates are:\n  harmonic_mean_gen_impl(::Any...) at In[2]:2 (method too new to be called from this world context.)\u001b[39m",
      "",
      "Stacktrace:",
      " [1] \u001b[1mharmonic_mean_gen(...)\u001b[22m\u001b[22m at \u001b[1m./In[1]:2\u001b[22m\u001b[22m"
     ]
    }
   ],
   "source": [
    "harmonic_mean_gen(2, 2, 5)"
   ]
  },
  {
   "cell_type": "markdown",
   "metadata": {},
   "source": [
    "# Zadanie 2."
   ]
  },
  {
   "cell_type": "code",
   "execution_count": 7,
   "metadata": {},
   "outputs": [
    {
     "name": "stdout",
     "output_type": "stream",
     "text": [
      "Expr\n",
      "  head: Symbol call\n",
      "  args: Array{Any}((3,))\n",
      "    1: Symbol +\n",
      "    2: Symbol x\n",
      "    3: Symbol x\n",
      "  typ: Any\n"
     ]
    }
   ],
   "source": [
    "dump(:(x + x))"
   ]
  },
  {
   "cell_type": "code",
   "execution_count": 8,
   "metadata": {},
   "outputs": [
    {
     "data": {
      "text/plain": [
       "autodiff (generic function with 1 method)"
      ]
     },
     "execution_count": 8,
     "metadata": {},
     "output_type": "execute_result"
    }
   ],
   "source": [
    "function autodiff(ex::Expr)::Expr\n",
    "    if (ex.head == :call) autodiff(Val{ex.args[1]}, ex) end\n",
    "end"
   ]
  },
  {
   "cell_type": "code",
   "execution_count": 9,
   "metadata": {},
   "outputs": [
    {
     "data": {
      "text/plain": [
       "autodiff (generic function with 3 methods)"
      ]
     },
     "execution_count": 9,
     "metadata": {},
     "output_type": "execute_result"
    }
   ],
   "source": [
    "function autodiff(n::Number) return 0 end\n",
    "function autodiff(s::Symbol) return 1 end"
   ]
  },
  {
   "cell_type": "code",
   "execution_count": null,
   "metadata": {},
   "outputs": [],
   "source": [
    "function autodiff(::Type{Val{:+}}, ex::Expr)::Expr\n",
    "    reduce((x,y) -> :($x + $y), map(autodiff, ex.args[2:end]))\n",
    "end\n",
    "\n",
    "function autodiff(::Type{Val{:-}}, ex::Expr)::Expr\n",
    "    reduce((x,y) -> :($x - $y), map(autodiff, ex.args[2:end]))\n",
    "end\n",
    "\n",
    "function autodiff(::Type{Val{:*}}, ex::Expr)\n",
    "    res = :(0)\n",
    "    args = ex.args[2:end]\n",
    "    argsdiff = map(autodiff, args)\n",
    "    N = length(args)\n",
    "    \n",
    "    for i = 1:N\n",
    "        part = 1\n",
    "        for j = 1:N\n",
    "            if i == j \n",
    "                ad = argsdiff[j]\n",
    "                part = :($part * $ad)\n",
    "            else \n",
    "                a = args[j]\n",
    "                part = :($part * $a)\n",
    "            end\n",
    "        end\n",
    "        res = :($res + $part)\n",
    "    end\n",
    "    res\n",
    "end\n",
    "\n",
    "function autodiff(::Type{Val{:/}}, ex::Expr)\n",
    "    f = ex.args[2]\n",
    "    g = ex.args[3]\n",
    "    df = autodiff(ex.args[2])\n",
    "    dg = autodiff(ex.args[3])\n",
    "    :(($df * $g - $f * $dg) / ($g * $g))\n",
    "end"
   ]
  },
  {
   "cell_type": "code",
   "execution_count": null,
   "metadata": {},
   "outputs": [],
   "source": [
    "autodiff(:(x+2))"
   ]
  },
  {
   "cell_type": "code",
   "execution_count": null,
   "metadata": {},
   "outputs": [],
   "source": [
    "autodiff(:(x-2))"
   ]
  },
  {
   "cell_type": "code",
   "execution_count": null,
   "metadata": {},
   "outputs": [],
   "source": [
    "autodiff(:(5 * x * x))"
   ]
  },
  {
   "cell_type": "code",
   "execution_count": null,
   "metadata": {},
   "outputs": [],
   "source": [
    "autodiff(:(5 / x + x * y))"
   ]
  },
  {
   "cell_type": "code",
   "execution_count": null,
   "metadata": {},
   "outputs": [],
   "source": [
    "autodiff(:(x + x*y*z))"
   ]
  },
  {
   "cell_type": "markdown",
   "metadata": {},
   "source": [
    "## Zadanie bonusowe."
   ]
  },
  {
   "cell_type": "code",
   "execution_count": null,
   "metadata": {},
   "outputs": [],
   "source": [
    "using DualNumbers\n",
    "function autodiffFun(f) \n",
    "    g(x) = dualpart(f(Dual(x,1)))\n",
    "end"
   ]
  },
  {
   "cell_type": "code",
   "execution_count": null,
   "metadata": {},
   "outputs": [],
   "source": [
    "f(x) = x * x + x - 10x\n",
    "g = autodiffFun(f)\n",
    "g(5) == 1"
   ]
  }
 ],
 "metadata": {
  "kernelspec": {
   "display_name": "Julia 0.6.2",
   "language": "julia",
   "name": "julia-0.6"
  },
  "language_info": {
   "file_extension": ".jl",
   "mimetype": "application/julia",
   "name": "julia",
   "version": "0.6.2"
  }
 },
 "nbformat": 4,
 "nbformat_minor": 2
}
