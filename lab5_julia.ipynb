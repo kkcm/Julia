{
 "cells": [
  {
   "cell_type": "markdown",
   "metadata": {},
   "source": [
    "# Zadanie 1."
   ]
  },
  {
   "cell_type": "code",
   "execution_count": null,
   "metadata": {},
   "outputs": [],
   "source": [
    "function harmonic_mean_gen_impl(x...)\n",
    "    N = length(x)\n",
    "    elNum = :($N)\n",
    "    sum = :(0)\n",
    "    for i = 1:N\n",
    "        sum = :((1 / x[$i]) + $sum)\n",
    "    end\n",
    "    return :($elNum / $sum)\n",
    "end"
   ]
  },
  {
   "cell_type": "code",
   "execution_count": null,
   "metadata": {},
   "outputs": [],
   "source": [
    "harmonic_mean_gen_impl(Int, Int, Int)"
   ]
  },
  {
   "cell_type": "code",
   "execution_count": null,
   "metadata": {},
   "outputs": [],
   "source": [
    "harmonic_mean_gen_impl(2, 2, 5, 7)"
   ]
  },
  {
   "cell_type": "markdown",
   "metadata": {},
   "source": [
    "# Zadanie 2."
   ]
  },
  {
   "cell_type": "code",
   "execution_count": null,
   "metadata": {},
   "outputs": [],
   "source": [
    "dump(:(x + x))"
   ]
  },
  {
   "cell_type": "code",
   "execution_count": null,
   "metadata": {},
   "outputs": [],
   "source": [
    "function autodiff(ex::Expr)::Expr\n",
    "    if (ex.head == :call) autodiff(Val{ex.args[1]}, ex) end\n",
    "end"
   ]
  },
  {
   "cell_type": "code",
   "execution_count": null,
   "metadata": {},
   "outputs": [],
   "source": [
    "function autodiff(n::Number) return 0 end\n",
    "function autodiff(s::Symbol) return 1 end"
   ]
  },
  {
   "cell_type": "code",
   "execution_count": null,
   "metadata": {},
   "outputs": [],
   "source": [
    "function autodiff(::Type{Val{:+}}, ex::Expr)::Expr\n",
    "    reduce((x,y) -> :($x + $y), map(autodiff, ex.args[2:end]))\n",
    "end\n",
    "\n",
    "function autodiff(::Type{Val{:-}}, ex::Expr)::Expr\n",
    "    reduce((x,y) -> :($x - $y), map(autodiff, ex.args[2:end]))\n",
    "end\n",
    "\n",
    "function autodiff(::Type{Val{:*}}, ex::Expr)\n",
    "    res = :(0)\n",
    "    args = ex.args[2:end]\n",
    "    argsdiff = map(autodiff, args)\n",
    "    N = length(args)\n",
    "    \n",
    "    for i = 1:N\n",
    "        part = 1\n",
    "        for j = 1:N\n",
    "            if i == j \n",
    "                ad = argsdiff[j]\n",
    "                part = :($part * $ad)\n",
    "            else \n",
    "                a = args[j]\n",
    "                part = :($part * $a)\n",
    "            end\n",
    "        end\n",
    "        res = :($res + $part)\n",
    "    end\n",
    "    res\n",
    "end\n",
    "\n",
    "function autodiff(::Type{Val{:/}}, ex::Expr)\n",
    "    f = ex.args[2]\n",
    "    g = ex.args[3]\n",
    "    df = autodiff(ex.args[2])\n",
    "    dg = autodiff(ex.args[3])\n",
    "    :(($df * $g - $f * $dg) / ($g * $g))\n",
    "end"
   ]
  },
  {
   "cell_type": "code",
   "execution_count": null,
   "metadata": {},
   "outputs": [],
   "source": [
    "autodiff(:(x+2))"
   ]
  },
  {
   "cell_type": "code",
   "execution_count": 9,
   "metadata": {},
   "outputs": [
    {
     "data": {
      "text/plain": [
       ":(1 - 0)"
      ]
     },
     "execution_count": 9,
     "metadata": {},
     "output_type": "execute_result"
    }
   ],
   "source": [
    "autodiff(:(x-2))"
   ]
  },
  {
   "cell_type": "code",
   "execution_count": 10,
   "metadata": {},
   "outputs": [
    {
     "data": {
      "text/plain": [
       ":(((0 + ((1 * 0) * x) * x) + ((1 * 5) * 1) * x) + ((1 * 5) * x) * 1)"
      ]
     },
     "execution_count": 10,
     "metadata": {},
     "output_type": "execute_result"
    }
   ],
   "source": [
    "autodiff(:(5 * x * x))"
   ]
  },
  {
   "cell_type": "code",
   "execution_count": 11,
   "metadata": {},
   "outputs": [
    {
     "data": {
      "text/plain": [
       ":((0x - 5 * 1) / (x * x) + ((0 + (1 * 1) * y) + (1x) * 1))"
      ]
     },
     "execution_count": 11,
     "metadata": {},
     "output_type": "execute_result"
    }
   ],
   "source": [
    "autodiff(:(5 / x + x * y))"
   ]
  },
  {
   "cell_type": "code",
   "execution_count": 12,
   "metadata": {},
   "outputs": [
    {
     "data": {
      "text/plain": [
       ":(1 + (((0 + ((1 * 1) * y) * z) + ((1x) * 1) * z) + ((1x) * y) * 1))"
      ]
     },
     "execution_count": 12,
     "metadata": {},
     "output_type": "execute_result"
    }
   ],
   "source": [
    "autodiff(:(x + x*y*z))"
   ]
  },
  {
   "cell_type": "markdown",
   "metadata": {},
   "source": [
    "## Zadanie bonusowe."
   ]
  },
  {
   "cell_type": "code",
   "execution_count": 13,
   "metadata": {},
   "outputs": [
    {
     "data": {
      "text/plain": [
       "autodiffFun (generic function with 1 method)"
      ]
     },
     "execution_count": 13,
     "metadata": {},
     "output_type": "execute_result"
    }
   ],
   "source": [
    "using DualNumbers\n",
    "function autodiffFun(f) \n",
    "    g(x) = dualpart(f(Dual(x,1)))\n",
    "end"
   ]
  },
  {
   "cell_type": "code",
   "execution_count": 14,
   "metadata": {},
   "outputs": [
    {
     "data": {
      "text/plain": [
       "true"
      ]
     },
     "execution_count": 14,
     "metadata": {},
     "output_type": "execute_result"
    }
   ],
   "source": [
    "f(x) = x * x + x - 10x\n",
    "g = autodiffFun(f)\n",
    "g(5) == 1"
   ]
  }
 ],
 "metadata": {
  "kernelspec": {
   "display_name": "Julia 0.6.2",
   "language": "julia",
   "name": "julia-0.6"
  },
  "language_info": {
   "file_extension": ".jl",
   "mimetype": "application/julia",
   "name": "julia",
   "version": "0.6.2"
  }
 },
 "nbformat": 4,
 "nbformat_minor": 2
}
