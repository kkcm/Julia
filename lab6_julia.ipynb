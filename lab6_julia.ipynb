{
 "cells": [
  {
   "cell_type": "markdown",
   "metadata": {},
   "source": [
    "# Laboratorium 6 - Julia"
   ]
  },
  {
   "cell_type": "markdown",
   "metadata": {},
   "source": [
    "## Zadanie 1."
   ]
  },
  {
   "cell_type": "code",
   "execution_count": 9,
   "metadata": {},
   "outputs": [
    {
     "data": {
      "text/plain": [
       "writeOne (generic function with 2 methods)"
      ]
     },
     "execution_count": 9,
     "metadata": {},
     "output_type": "execute_result"
    }
   ],
   "source": [
    "function writeOne(n::Integer, c::Channel)\n",
    "    for i = 1:n\n",
    "        println(\"1\")\n",
    "        yield()\n",
    "    end\n",
    "end"
   ]
  },
  {
   "cell_type": "code",
   "execution_count": 10,
   "metadata": {},
   "outputs": [
    {
     "data": {
      "text/plain": [
       "writeTwo (generic function with 2 methods)"
      ]
     },
     "execution_count": 10,
     "metadata": {},
     "output_type": "execute_result"
    }
   ],
   "source": [
    "function writeTwo(n::Integer, c::Channel)\n",
    "    for i = 1:n\n",
    "        println(\"2\")\n",
    "        yield()\n",
    "    end\n",
    "end"
   ]
  },
  {
   "cell_type": "code",
   "execution_count": 11,
   "metadata": {},
   "outputs": [
    {
     "data": {
      "text/plain": [
       "writeThree (generic function with 2 methods)"
      ]
     },
     "execution_count": 11,
     "metadata": {},
     "output_type": "execute_result"
    }
   ],
   "source": [
    "function writeThree(n::Integer, c::Channel)\n",
    "    for i = 1:n\n",
    "        println(\"3\")\n",
    "        yield()\n",
    "    end\n",
    "end"
   ]
  },
  {
   "cell_type": "code",
   "execution_count": 14,
   "metadata": {},
   "outputs": [
    {
     "name": "stdout",
     "output_type": "stream",
     "text": [
      "1\n",
      "2\n",
      "3\n",
      "1\n",
      "2\n",
      "3\n",
      "1\n",
      "2\n",
      "3\n"
     ]
    },
    {
     "data": {
      "text/plain": [
       "Task (done) @0x00000001163561d0"
      ]
     },
     "execution_count": 14,
     "metadata": {},
     "output_type": "execute_result"
    }
   ],
   "source": [
    "@sync begin\n",
    "    c = Channel(32)\n",
    "    \n",
    "    @async writeOne(3, c)\n",
    "    @async writeTwo(3, c)\n",
    "    @async writeThree(3, c)\n",
    "end"
   ]
  },
  {
   "cell_type": "code",
   "execution_count": 13,
   "metadata": {},
   "outputs": [
    {
     "name": "stdout",
     "output_type": "stream",
     "text": [
      "1\n",
      "2\n",
      "3\n",
      "1\n",
      "2\n",
      "3\n",
      "1\n",
      "2\n",
      "3\n",
      "2\n",
      "3\n",
      "3\n"
     ]
    },
    {
     "data": {
      "text/plain": [
       "Task (done) @0x000000011635f850"
      ]
     },
     "execution_count": 13,
     "metadata": {},
     "output_type": "execute_result"
    }
   ],
   "source": [
    "@sync begin\n",
    "    c = Channel(32)\n",
    "    \n",
    "    @async writeOne(3, c)\n",
    "    @async writeTwo(4, c)\n",
    "    @async writeThree(5, c)\n",
    "end"
   ]
  },
  {
   "cell_type": "markdown",
   "metadata": {},
   "source": [
    "## Zadanie 2."
   ]
  },
  {
   "cell_type": "code",
   "execution_count": 1,
   "metadata": {},
   "outputs": [
    {
     "data": {
      "text/plain": [
       "7"
      ]
     },
     "execution_count": 1,
     "metadata": {},
     "output_type": "execute_result"
    }
   ],
   "source": [
    "path = \"/Users/kubi/Documents/STUDIA/JULIA\"\n",
    "extension = \"ipynb\"\n",
    "size = 7"
   ]
  },
  {
   "cell_type": "code",
   "execution_count": 2,
   "metadata": {},
   "outputs": [
    {
     "data": {
      "text/plain": [
       "consument (generic function with 1 method)"
      ]
     },
     "execution_count": 2,
     "metadata": {},
     "output_type": "execute_result"
    }
   ],
   "source": [
    "function consument(c::Channel)\n",
    "    localSum = 0\n",
    "    println(\"- consument start\")\n",
    "    for file in c\n",
    "        println(\"I get \", file)\n",
    "        localSum += countlines(file)\n",
    "        yield()\n",
    "    end\n",
    "    println(\"- consument end\")\n",
    "    return localSum\n",
    "end"
   ]
  },
  {
   "cell_type": "code",
   "execution_count": 5,
   "metadata": {},
   "outputs": [
    {
     "data": {
      "text/plain": [
       "producer (generic function with 1 method)"
      ]
     },
     "execution_count": 5,
     "metadata": {},
     "output_type": "execute_result"
    }
   ],
   "source": [
    "function producer(c::Channel)\n",
    "    println(\"+ producent start\")\n",
    "    for(root, dirs, files) in walkdir(path)\n",
    "    for file in files\n",
    "        if(extension != \"\" && split(file, \".\")[end] != extension)\n",
    "            continue\n",
    "        end\n",
    "        put!(c, joinpath(root, file))\n",
    "        yield()\n",
    "    end\n",
    "end\n",
    "    close(C)\n",
    "    println(\"+ producent end\")\n",
    "end"
   ]
  },
  {
   "cell_type": "code",
   "execution_count": 7,
   "metadata": {},
   "outputs": [
    {
     "name": "stdout",
     "output_type": "stream",
     "text": [
      "- consument start\n",
      "I get /Users/kubi/Documents/STUDIA/JULIA/lab3_julia.ipynb\n",
      "- consument start\n",
      "I get /Users/kubi/Documents/STUDIA/JULIA/lab5_julia.ipynb\n",
      "- consument start\n",
      "I get /Users/kubi/Documents/STUDIA/JULIA/.ipynb_checkpoints/lab3_julia-checkpoint.ipynb\n",
      "- consument start\n",
      "I get /Users/kubi/Documents/STUDIA/JULIA/.ipynb_checkpoints/lab5_julia-checkpoint.ipynb\n",
      "- consument start\n",
      "- consument start\n",
      "- consument start\n",
      "I get /Users/kubi/Documents/STUDIA/JULIA/lab4_julia.ipynb\n",
      "I get /Users/kubi/Documents/STUDIA/JULIA/lab6_julia.ipynb\n",
      "I get /Users/kubi/Documents/STUDIA/JULIA/.ipynb_checkpoints/lab4_julia-checkpoint.ipynb\n",
      "I get /Users/kubi/Documents/STUDIA/JULIA/kzajac.github.io/julia/lab1/Tutorial_1.ipynb\n",
      "I get /Users/kubi/Documents/STUDIA/JULIA/kzajac.github.io/julia/lab3/performance_short_old.ipynb\n",
      "I get /Users/kubi/Documents/STUDIA/JULIA/kzajac.github.io/julia/lab4/DataAnal_short.ipynb\n",
      "I get /Users/kubi/Documents/STUDIA/JULIA/kzajac.github.io/julia/lab5/ZadanieAutoDiff.ipynb\n",
      "I get /Users/kubi/Documents/STUDIA/JULIA/.ipynb_checkpoints/lab6_julia-checkpoint.ipynb\n",
      "I get /Users/kubi/Documents/STUDIA/JULIA/kzajac.github.io/julia/lab2/Tutorial_2.ipynb\n",
      "I get /Users/kubi/Documents/STUDIA/JULIA/kzajac.github.io/julia/lab3/wyklad_performance2018.ipynb\n",
      "I get /Users/kubi/Documents/STUDIA/JULIA/kzajac.github.io/julia/lab4/DifferentialEquationsDataFrames.ipynb\n",
      "I get /Users/kubi/Documents/STUDIA/JULIA/kzajac.github.io/julia/lab4/.ipynb_checkpoints/DataAnal_short-checkpoint.ipynb\n",
      "I get /Users/kubi/Documents/STUDIA/JULIA/kzajac.github.io/julia/lab5/meta_short_old.ipynb\n",
      "I get /Users/kubi/Documents/STUDIA/JULIA/kzajac.github.io/julia/lab5/metaprogramowanie2018.ipynb\n",
      "I get /Users/kubi/Documents/STUDIA/JULIA/kzajac.github.io/julia/lab6/Rownolegle-short_old.ipynb\n",
      "I get /Users/kubi/Documents/STUDIA/JULIA/kzajac.github.io/julia/lab6/Wyklad_Rownolegle2018.ipynb\n",
      "I get /Users/kubi/Documents/STUDIA/JULIA/kzajac.github.io/julia/wyklady/Julia_inne_jezyki_tworzenie_pakietow.ipynb\n",
      "I get /Users/kubi/Documents/STUDIA/JULIA/kzajac.github.io/mownit/DataAnal_short1.ipynb\n",
      "I get /Users/kubi/Documents/STUDIA/JULIA/kzajac.io/julia/lab1/Tutorial_1.ipynb\n",
      "I get /Users/kubi/Documents/STUDIA/JULIA/kzajac.io/julia/lab3/Tutorial_2.ipynb\n",
      "I get /Users/kubi/Documents/STUDIA/JULIA/kzajac.io/julia/lab3/wyklad_performance.ipynb\n",
      "I get /Users/kubi/Documents/STUDIA/JULIA/kzajac.io/julia/lab3/.ipynb_checkpoints/wyklad_performance-checkpoint.ipynb\n",
      "I get /Users/kubi/Documents/STUDIA/JULIA/kzajac.io/julia/lab2/Tutorial_2.ipynb\n",
      "I get /Users/kubi/Documents/STUDIA/JULIA/kzajac.io/julia/lab3/performance_short.ipynb\n",
      "+ producent kończy\n",
      "I get /Users/kubi/Documents/STUDIA/JULIA/kzajac.io/julia/lab3/tutorial_lab2.ipynb\n",
      "I get /Users/kubi/Documents/STUDIA/JULIA/kzajac.io/julia/lab3/.ipynb_checkpoints/Tutorial_2-checkpoint.ipynb\n",
      "I get /Users/kubi/Documents/STUDIA/JULIA/kzajac.io/julia/lab3/.ipynb_checkpoints/tutorial_lab2-checkpoint.ipynb\n",
      "I get /Users/kubi/Documents/STUDIA/JULIA/kzajac.io/julia/lab4/DataAnal_short.ipynb\n",
      "I get /Users/kubi/Documents/STUDIA/JULIA/kzajac.io/julia/lab5/meta_short.ipynb\n",
      "I get /Users/kubi/Documents/STUDIA/JULIA/kzajac.io/julia/lab5/metaprogramowanie.ipynb\n",
      "I get /Users/kubi/Documents/STUDIA/JULIA/kzajac.io/julia/lab6/Rownolegle-short.ipynb\n",
      "I get /Users/kubi/Documents/STUDIA/JULIA/kzajac.io/julia/lab6/Wyklad_Rownolegle.ipynb\n",
      "I get /Users/kubi/Documents/STUDIA/JULIA/kzajac.io/julia/wyklady/Julia_inne_jezyki_tworzenie_pakietow.ipynb\n",
      "I get /Users/kubi/Documents/STUDIA/JULIA/kzajac.io/mownit/DataAnal_short1.ipynb\n",
      "- consument end\n",
      "- consument end\n",
      "- consument end\n",
      "- consument end\n",
      "- consument end\n",
      "- consument end\n",
      "- consument end\n",
      "The number of lines is: \n"
     ]
    },
    {
     "data": {
      "text/plain": [
       "168213"
      ]
     },
     "execution_count": 7,
     "metadata": {},
     "output_type": "execute_result"
    }
   ],
   "source": [
    "@sync begin\n",
    "    c = Channel{String}(32)\n",
    "    sumsArray = SharedArray{Int64}(size)\n",
    "    @async producer2(c)\n",
    "    @sync for i = 1:size\n",
    "        @async sumsArray[i] = consument(c)\n",
    "    end\n",
    "    println(\"The number of lines is: \")\n",
    "    return sum(sumsArray)\n",
    "end"
   ]
  },
  {
   "cell_type": "markdown",
   "metadata": {},
   "source": [
    "## Zadanie 3."
   ]
  },
  {
   "cell_type": "code",
   "execution_count": 9,
   "metadata": {},
   "outputs": [
    {
     "ename": "LoadError",
     "evalue": "\u001b[91mArgumentError: Module StatPlots not found in current path.\nRun `Pkg.add(\"StatPlots\")` to install the StatPlots package.\u001b[39m",
     "output_type": "error",
     "traceback": [
      "\u001b[91mArgumentError: Module StatPlots not found in current path.\nRun `Pkg.add(\"StatPlots\")` to install the StatPlots package.\u001b[39m",
      "",
      "Stacktrace:",
      " [1] \u001b[1m_require\u001b[22m\u001b[22m\u001b[1m(\u001b[22m\u001b[22m::Symbol\u001b[1m)\u001b[22m\u001b[22m at \u001b[1m./loading.jl:435\u001b[22m\u001b[22m",
      " [2] \u001b[1mrequire\u001b[22m\u001b[22m\u001b[1m(\u001b[22m\u001b[22m::Symbol\u001b[1m)\u001b[22m\u001b[22m at \u001b[1m./loading.jl:405\u001b[22m\u001b[22m"
     ]
    }
   ],
   "source": [
    "using DataFrames\n",
    "using StatPlots\n",
    "using Plots\n",
    "Plots.gr()"
   ]
  },
  {
   "cell_type": "code",
   "execution_count": 10,
   "metadata": {},
   "outputs": [],
   "source": [
    "@everywhere function generate_julia(z; c=2, maxiter=200)\n",
    "    for i=1:maxiter\n",
    "        if abs(z) > 2\n",
    "            return i-1\n",
    "        end\n",
    "        z = z^2 + c\n",
    "    end\n",
    "    maxiter\n",
    "end"
   ]
  },
  {
   "cell_type": "code",
   "execution_count": 11,
   "metadata": {},
   "outputs": [],
   "source": [
    "@everywhere function calc_julia!(julia_set, xrange, yrange; maxiter=200, height=400, width_start=1, width_end=400)\n",
    "   for x=width_start:width_end\n",
    "        for y=1:height\n",
    "            z = xrange[x] + 1im*yrange[y]\n",
    "            julia_set[x, y] = generate_julia(z, c=-0.70176-0.3842im, maxiter=maxiter)\n",
    "        end\n",
    "    end\n",
    "end"
   ]
  },
  {
   "cell_type": "code",
   "execution_count": 12,
   "metadata": {},
   "outputs": [
    {
     "data": {
      "text/plain": [
       "calc_julia_main (generic function with 1 method)"
      ]
     },
     "execution_count": 12,
     "metadata": {},
     "output_type": "execute_result"
    }
   ],
   "source": [
    "function calc_julia_main(h,w)\n",
    "   xmin, xmax = -2,2\n",
    "   ymin, ymax = -1,1\n",
    "   xrange = linspace(xmin, xmax, w)\n",
    "   yrange = linspace(ymin, ymax, h)\n",
    "\tprintln(xrange[100],yrange[101])\n",
    "   julia_set = Array(Int64, (w, h))\n",
    "   @time calc_julia!(julia_set, xrange, yrange, height=h, width_end=w)\n",
    "\n",
    "   Plots.heatmap(xrange, yrange, julia_set)\n",
    "   png(\"julia\")\n",
    "end"
   ]
  },
  {
   "cell_type": "code",
   "execution_count": 13,
   "metadata": {},
   "outputs": [
    {
     "name": "stdout",
     "output_type": "stream",
     "text": [
      "-1.8019009504752377-0.8999499749874937\n"
     ]
    },
    {
     "name": "stderr",
     "output_type": "stream",
     "text": [
      "\u001b[1m\u001b[33mWARNING: \u001b[39m\u001b[22m\u001b[33mArray(::Type{T}, d::NTuple{N, Int}) where {T, N} is deprecated, use Array{T}(d) instead.\u001b[39m\n",
      "Stacktrace:\n",
      " [1] \u001b[1mdepwarn\u001b[22m\u001b[22m\u001b[1m(\u001b[22m\u001b[22m::String, ::Symbol\u001b[1m)\u001b[22m\u001b[22m at \u001b[1m./deprecated.jl:70\u001b[22m\u001b[22m\n",
      " [2] \u001b[1mArray\u001b[22m\u001b[22m\u001b[1m(\u001b[22m\u001b[22m::Type{Int64}, ::Tuple{Int64,Int64}\u001b[1m)\u001b[22m\u001b[22m at \u001b[1m./deprecated.jl:57\u001b[22m\u001b[22m\n",
      " [3] \u001b[1mcalc_julia_main\u001b[22m\u001b[22m\u001b[1m(\u001b[22m\u001b[22m::Int64, ::Int64\u001b[1m)\u001b[22m\u001b[22m at \u001b[1m./In[12]:7\u001b[22m\u001b[22m\n",
      " [4] \u001b[1minclude_string\u001b[22m\u001b[22m\u001b[1m(\u001b[22m\u001b[22m::String, ::String\u001b[1m)\u001b[22m\u001b[22m at \u001b[1m./loading.jl:522\u001b[22m\u001b[22m\n",
      " [5] \u001b[1mexecute_request\u001b[22m\u001b[22m\u001b[1m(\u001b[22m\u001b[22m::ZMQ.Socket, ::IJulia.Msg\u001b[1m)\u001b[22m\u001b[22m at \u001b[1m/Users/kubi/.julia/v0.6/IJulia/src/execute_request.jl:158\u001b[22m\u001b[22m\n",
      " [6] \u001b[1m(::Compat.#inner#18{Array{Any,1},IJulia.#execute_request,Tuple{ZMQ.Socket,IJulia.Msg}})\u001b[22m\u001b[22m\u001b[1m(\u001b[22m\u001b[22m\u001b[1m)\u001b[22m\u001b[22m at \u001b[1m/Users/kubi/.julia/v0.6/Compat/src/Compat.jl:378\u001b[22m\u001b[22m\n",
      " [7] \u001b[1meventloop\u001b[22m\u001b[22m\u001b[1m(\u001b[22m\u001b[22m::ZMQ.Socket\u001b[1m)\u001b[22m\u001b[22m at \u001b[1m/Users/kubi/.julia/v0.6/IJulia/src/eventloop.jl:8\u001b[22m\u001b[22m\n",
      " [8] \u001b[1m(::IJulia.##14#17)\u001b[22m\u001b[22m\u001b[1m(\u001b[22m\u001b[22m\u001b[1m)\u001b[22m\u001b[22m at \u001b[1m./task.jl:335\u001b[22m\u001b[22m\n",
      "while loading In[13], in expression starting on line 1\n"
     ]
    },
    {
     "name": "stdout",
     "output_type": "stream",
     "text": [
      "  2.013583 seconds (12.02 M allocations: 672.409 MiB, 3.38% gc time)\n"
     ]
    },
    {
     "ename": "LoadError",
     "evalue": "\u001b[91mUndefVarError: Plots not defined\u001b[39m",
     "output_type": "error",
     "traceback": [
      "\u001b[91mUndefVarError: Plots not defined\u001b[39m",
      "",
      "Stacktrace:",
      " [1] \u001b[1mcalc_julia_main\u001b[22m\u001b[22m\u001b[1m(\u001b[22m\u001b[22m::Int64, ::Int64\u001b[1m)\u001b[22m\u001b[22m at \u001b[1m./In[12]:10\u001b[22m\u001b[22m"
     ]
    }
   ],
   "source": [
    "calc_julia_main(2000,2000)"
   ]
  },
  {
   "cell_type": "code",
   "execution_count": null,
   "metadata": {},
   "outputs": [],
   "source": []
  }
 ],
 "metadata": {
  "kernelspec": {
   "display_name": "Julia 0.6.2",
   "language": "julia",
   "name": "julia-0.6"
  },
  "language_info": {
   "file_extension": ".jl",
   "mimetype": "application/julia",
   "name": "julia",
   "version": "0.6.2"
  }
 },
 "nbformat": 4,
 "nbformat_minor": 2
}
